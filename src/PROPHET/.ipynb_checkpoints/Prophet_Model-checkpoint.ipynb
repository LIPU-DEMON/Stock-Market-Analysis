{
 "cells": [
  {
   "cell_type": "code",
   "execution_count": 4,
   "id": "2b3214ac-b29f-404f-a9ca-c9f335152659",
   "metadata": {},
   "outputs": [
    {
     "name": "stdout",
     "output_type": "stream",
     "text": [
      "\n",
      "🔄 Processing Apple...\n"
     ]
    },
    {
     "name": "stderr",
     "output_type": "stream",
     "text": [
      "14:45:02 - cmdstanpy - INFO - Chain [1] start processing\n",
      "14:45:04 - cmdstanpy - INFO - Chain [1] done processing\n"
     ]
    },
    {
     "name": "stdout",
     "output_type": "stream",
     "text": [
      "Test RMSE: 220.5416 | MAE: 173.1168\n",
      "✅ Saved results for Apple\n",
      "\n",
      "🔄 Processing GeneralElectric...\n"
     ]
    },
    {
     "name": "stderr",
     "output_type": "stream",
     "text": [
      "14:45:07 - cmdstanpy - INFO - Chain [1] start processing\n",
      "14:45:11 - cmdstanpy - INFO - Chain [1] done processing\n"
     ]
    },
    {
     "name": "stdout",
     "output_type": "stream",
     "text": [
      "Test RMSE: 87.9133 | MAE: 63.9492\n",
      "✅ Saved results for GeneralElectric\n",
      "\n",
      "🔄 Processing IBM...\n"
     ]
    },
    {
     "name": "stderr",
     "output_type": "stream",
     "text": [
      "14:45:15 - cmdstanpy - INFO - Chain [1] start processing\n",
      "14:45:18 - cmdstanpy - INFO - Chain [1] done processing\n"
     ]
    },
    {
     "name": "stdout",
     "output_type": "stream",
     "text": [
      "Test RMSE: 71.6479 | MAE: 52.2737\n",
      "✅ Saved results for IBM\n",
      "\n",
      "🔄 Processing Johnson&Johnson...\n"
     ]
    },
    {
     "name": "stderr",
     "output_type": "stream",
     "text": [
      "14:45:21 - cmdstanpy - INFO - Chain [1] start processing\n",
      "14:45:23 - cmdstanpy - INFO - Chain [1] done processing\n"
     ]
    },
    {
     "name": "stdout",
     "output_type": "stream",
     "text": [
      "Test RMSE: 22.8844 | MAE: 18.5075\n",
      "✅ Saved results for Johnson&Johnson\n",
      "\n",
      "🔄 Processing Microsoft...\n"
     ]
    },
    {
     "name": "stderr",
     "output_type": "stream",
     "text": [
      "14:45:27 - cmdstanpy - INFO - Chain [1] start processing\n",
      "14:45:29 - cmdstanpy - INFO - Chain [1] done processing\n"
     ]
    },
    {
     "name": "stdout",
     "output_type": "stream",
     "text": [
      "Test RMSE: 272.1464 | MAE: 223.9676\n",
      "✅ Saved results for Microsoft\n",
      "\n",
      "📊 RMSE/MAE summary for all stocks:\n",
      "             Stock        RMSE         MAE\n",
      "0            Apple  220.541571  173.116783\n",
      "1  GeneralElectric   87.913347   63.949244\n",
      "2              IBM   71.647932   52.273698\n",
      "3  Johnson&Johnson   22.884402   18.507506\n",
      "4        Microsoft  272.146429  223.967611\n",
      "\n",
      "✅ All stocks processed. Prophet results and diagnostics saved in Prophet_Results/\n"
     ]
    }
   ],
   "source": [
    "# Prophet Stock Price Forecasting & Hyperparameter Optimization\n",
    "# Ready-to-run notebook for accurate stock price predictions\n",
    "\n",
    "import os\n",
    "import pandas as pd\n",
    "import numpy as np\n",
    "import matplotlib.pyplot as plt\n",
    "from prophet import Prophet\n",
    "from sklearn.metrics import mean_squared_error, mean_absolute_error\n",
    "\n",
    "# Directories\n",
    "input_dir = \"../Data/Prophet_Preprocessed\"\n",
    "output_dir = \"Prophet_Results_Optimized\"\n",
    "os.makedirs(output_dir, exist_ok=True)\n",
    "\n",
    "# Hyperparameter grids\n",
    "changepoint_scales = [0.05, 0.1, 0.2, 0.5]\n",
    "seasonality_scales = [5, 10, 20]\n",
    "seasonality_modes = ['additive', 'multiplicative']\n",
    "\n",
    "summary = []\n",
    "\n",
    "# Loop through each stock file\n",
    "for file in os.listdir(input_dir):\n",
    "    if not file.endswith(\"_prophet.csv\"):\n",
    "        continue\n",
    "    stock = file.replace(\"_prophet.csv\", \"\")\n",
    "    print(f\"\\n🔄 Processing {stock}...\")\n",
    "\n",
    "    df = pd.read_csv(os.path.join(input_dir, file))\n",
    "    df['ds'] = pd.to_datetime(df['ds'])\n",
    "    df = df.dropna(subset=['y'])\n",
    "\n",
    "    # Optional: log-transform for high variance\n",
    "    use_log = False\n",
    "    if df['y'].min() > 0 and df['y'].max() / df['y'].min() > 10:\n",
    "        df['y'] = np.log(df['y'])\n",
    "        use_log = True\n",
    "\n",
    "    # Train-test split (80/20)\n",
    "    split_idx = int(len(df) * 0.8)\n",
    "    train_df = df.iloc[:split_idx]\n",
    "    test_df = df.iloc[split_idx:]\n",
    "\n",
    "    # Grid search for best hyperparameters\n",
    "    best_rmse = float('inf')\n",
    "    best_params = None\n",
    "    best_forecast = None\n",
    "    best_model = None\n",
    "\n",
    "    for cps in changepoint_scales:\n",
    "        for sps in seasonality_scales:\n",
    "            for smode in seasonality_modes:\n",
    "                model = Prophet(\n",
    "                    yearly_seasonality=True,\n",
    "                    weekly_seasonality=True,\n",
    "                    daily_seasonality=False,\n",
    "                    seasonality_mode=smode,\n",
    "                    changepoint_prior_scale=cps,\n",
    "                    seasonality_prior_scale=sps\n",
    "                )\n",
    "                # Optionally add monthly seasonality\n",
    "                model.add_seasonality(name='monthly', period=30.5, fourier_order=5)\n",
    "\n",
    "                try:\n",
    "                    model.fit(train_df)\n",
    "                except Exception as e:\n",
    "                    print(f\"Model failed for params cps={cps}, sps={sps}, smode={smode}: {e}\")\n",
    "                    continue\n",
    "\n",
    "                future = model.make_future_dataframe(periods=len(test_df), freq='B')\n",
    "                forecast = model.predict(future)\n",
    "                forecast_test = forecast.iloc[-len(test_df):][['ds', 'yhat']].set_index('ds')\n",
    "                test_actual = test_df.set_index('ds')['y']\n",
    "\n",
    "                if use_log:\n",
    "                    forecast_test['yhat'] = np.exp(forecast_test['yhat'])\n",
    "                    test_actual = np.exp(test_actual)\n",
    "\n",
    "                rmse = np.sqrt(mean_squared_error(test_actual, forecast_test['yhat']))\n",
    "                mae = mean_absolute_error(test_actual, forecast_test['yhat'])\n",
    "                \n",
    "                if rmse < best_rmse:\n",
    "                    best_rmse = rmse\n",
    "                    best_params = (cps, sps, smode)\n",
    "                    best_forecast = forecast.copy()\n",
    "                    best_model = model\n",
    "\n",
    "    # Use best model and forecast\n",
    "    forecast = best_forecast\n",
    "    model = best_model\n",
    "    cps, sps, smode = best_params\n",
    "    forecast_test = forecast.iloc[-len(test_df):][['ds', 'yhat']].set_index('ds')\n",
    "    test_actual = test_df.set_index('ds')['y']\n",
    "    if use_log:\n",
    "        forecast_test['yhat'] = np.exp(forecast_test['yhat'])\n",
    "        test_actual = np.exp(test_actual)\n",
    "        train_df['y'] = np.exp(train_df['y'])\n",
    "        test_df['y'] = np.exp(test_df['y'])\n",
    "\n",
    "    rmse = np.sqrt(mean_squared_error(test_actual, forecast_test['yhat']))\n",
    "    mae = mean_absolute_error(test_actual, forecast_test['yhat'])\n",
    "\n",
    "    print(f\"Best Params for {stock}: changepoint_prior_scale={cps}, seasonality_prior_scale={sps}, mode={smode}\")\n",
    "    print(f\"Test RMSE: {rmse:.4f} | MAE: {mae:.4f}\")\n",
    "    summary.append({'Stock': stock, 'RMSE': rmse, 'MAE': mae,\n",
    "                    'changepoint_prior_scale': cps, 'seasonality_prior_scale': sps, 'seasonality_mode': smode})\n",
    "\n",
    "    # Visualization: Full train and test period\n",
    "    plt.figure(figsize=(12, 6))\n",
    "    plt.plot(train_df['ds'], train_df['y'], label=\"Train\", color=\"blue\", linewidth=2)\n",
    "    plt.plot(test_df['ds'], test_df['y'], label=\"Test Actual\", color=\"green\", linewidth=2)\n",
    "    plt.plot(test_df['ds'], forecast_test['yhat'], label=\"Test Forecast\", color=\"red\", linestyle='--', linewidth=2)\n",
    "    plt.title(f\"{stock} Prophet Forecast (Optimized)\")\n",
    "    plt.xlabel(\"Date\")\n",
    "    plt.ylabel(\"Price\")\n",
    "    plt.legend()\n",
    "    plt.tight_layout()\n",
    "    plt.savefig(f\"{output_dir}/{stock}_prophet_forecast.png\")\n",
    "    plt.close()\n",
    "\n",
    "    # Model diagnostics: plot components\n",
    "    fig2 = model.plot_components(forecast)\n",
    "    fig2.savefig(f\"{output_dir}/{stock}_prophet_components.png\")\n",
    "    plt.close(fig2)\n",
    "\n",
    "    # Training fit plot\n",
    "    fitted_train = forecast.iloc[:len(train_df)][['ds', 'yhat']].set_index('ds')\n",
    "    actual_train = train_df.set_index('ds')['y']\n",
    "    plt.figure(figsize=(12, 6))\n",
    "    plt.plot(actual_train.index, actual_train.values, label=\"Train Actual\", color=\"blue\", linewidth=2)\n",
    "    plt.plot(fitted_train.index, fitted_train['yhat'], label=\"Train Fitted\", color=\"orange\", linestyle='--', linewidth=2)\n",
    "    plt.title(f\"{stock} Prophet Training Fit (Optimized)\")\n",
    "    plt.xlabel(\"Date\")\n",
    "    plt.ylabel(\"Price\")\n",
    "    plt.legend()\n",
    "    plt.tight_layout()\n",
    "    plt.savefig(f\"{output_dir}/{stock}_prophet_train_fit.png\")\n",
    "    plt.close()\n",
    "\n",
    "    # Save forecast results\n",
    "    out_df = pd.DataFrame({\n",
    "        \"Date\": test_df['ds'],\n",
    "        \"Actual\": test_df['y'],\n",
    "        \"Forecast\": forecast_test['yhat'].values\n",
    "    })\n",
    "    out_df.to_csv(f\"{output_dir}/{stock}_prophet_forecast.csv\", index=False)\n",
    "    print(f\"✅ Saved optimized results for {stock}\")\n",
    "\n",
    "# Save RMSE/MAE summary for all stocks to CSV\n",
    "summary_df = pd.DataFrame(summary)\n",
    "summary_df.to_csv(f\"{output_dir}/prophet_rmse_mae_summary.csv\", index=False)\n",
    "print(\"\\n📊 RMSE/MAE summary for all stocks (Optimized):\")\n",
    "print(summary_df)\n",
    "\n",
    "print(\"\\n✅ All stocks processed. Optimized Prophet results and diagnostics saved in Prophet_Results_Optimized/\")"
   ]
  },
  {
   "cell_type": "code",
   "execution_count": 6,
   "id": "b968899d-caf0-4548-863d-0d4d52641499",
   "metadata": {},
   "outputs": [
    {
     "name": "stdout",
     "output_type": "stream",
     "text": [
      "\n",
      "📊 RMSE/MAE summary for all stocks saved\n"
     ]
    }
   ],
   "source": [
    "# Save RMSE/MAE summary for all stocks to CSV\n",
    "summary_df = pd.DataFrame(summary)\n",
    "summary_df.to_csv(f\"{output_dir}/prophet_rmse_mae_summary.csv\", index=False)\n",
    "print(\"\\n📊 RMSE/MAE summary for all stocks saved\")"
   ]
  },
  {
   "cell_type": "code",
   "execution_count": null,
   "id": "8b801977-902e-4227-bb2f-158b2d4c60fd",
   "metadata": {},
   "outputs": [],
   "source": []
  }
 ],
 "metadata": {
  "kernelspec": {
   "display_name": "Python 3 (ipykernel)",
   "language": "python",
   "name": "python3"
  },
  "language_info": {
   "codemirror_mode": {
    "name": "ipython",
    "version": 3
   },
   "file_extension": ".py",
   "mimetype": "text/x-python",
   "name": "python",
   "nbconvert_exporter": "python",
   "pygments_lexer": "ipython3",
   "version": "3.12.3"
  }
 },
 "nbformat": 4,
 "nbformat_minor": 5
}
