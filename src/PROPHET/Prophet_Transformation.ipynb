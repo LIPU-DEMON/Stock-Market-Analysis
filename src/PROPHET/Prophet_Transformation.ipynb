{
 "cells": [
  {
   "cell_type": "code",
   "execution_count": 5,
   "id": "866535f8-a060-45dc-96da-4d097d07a555",
   "metadata": {},
   "outputs": [
    {
     "name": "stdout",
     "output_type": "stream",
     "text": [
      "✅ Prophet-ready data saved in  Prophet_Preprocessed/\n"
     ]
    }
   ],
   "source": [
    "import pandas as pd\n",
    "import os\n",
    "\n",
    "# Load the transformed EDA data\n",
    "df = pd.read_csv(\"../Data/EDA_transformed.csv\")\n",
    "\n",
    "# Ensure 'Date' is datetime\n",
    "df['Date'] = pd.to_datetime(df['Date'])\n",
    "\n",
    "# Remove duplicates and sort\n",
    "df = df.drop_duplicates().sort_values(['Stocks', 'Date'])\n",
    "\n",
    "# Create output folder for Prophet-ready data\n",
    "os.makedirs(\"Prophet_Preprocessed\", exist_ok=True)\n",
    "\n",
    "# Prophet expects columns: 'ds' (date), 'y' (target)\n",
    "for stock in df['Stocks'].unique():\n",
    "    stock_df = df[df['Stocks'] == stock].copy()\n",
    "    stock_df = stock_df.drop_duplicates(subset='Date')\n",
    "    stock_df = stock_df.sort_values('Date')\n",
    "    stock_df = stock_df.set_index('Date').asfreq('B')  # business day frequency\n",
    "\n",
    "    # Interpolate missing values for all numeric columns\n",
    "    numeric_cols = stock_df.select_dtypes(include='number').columns\n",
    "    stock_df[numeric_cols] = stock_df[numeric_cols].interpolate(method='linear')\n",
    "    stock_df[numeric_cols] = stock_df[numeric_cols].ffill()\n",
    "\n",
    "    # Prepare Prophet format\n",
    "    prophet_df = pd.DataFrame({\n",
    "        'ds': stock_df.index,\n",
    "        'y': stock_df['Close'] if 'Close' in stock_df.columns else stock_df.iloc[:, 0]\n",
    "    })\n",
    "\n",
    "    # Save to CSV\n",
    "    prophet_df.to_csv(f\"../Data/Prophet_Preprocessed/{stock}_prophet.csv\", index=False)\n",
    "\n",
    "print(\"✅ Prophet-ready data saved in  Prophet_Preprocessed/\")"
   ]
  },
  {
   "cell_type": "code",
   "execution_count": null,
   "id": "0942be4e-2945-4587-b337-c4c484a16edf",
   "metadata": {},
   "outputs": [],
   "source": []
  }
 ],
 "metadata": {
  "kernelspec": {
   "display_name": "Python 3 (ipykernel)",
   "language": "python",
   "name": "python3"
  },
  "language_info": {
   "codemirror_mode": {
    "name": "ipython",
    "version": 3
   },
   "file_extension": ".py",
   "mimetype": "text/x-python",
   "name": "python",
   "nbconvert_exporter": "python",
   "pygments_lexer": "ipython3",
   "version": "3.11.3"
  }
 },
 "nbformat": 4,
 "nbformat_minor": 5
}
