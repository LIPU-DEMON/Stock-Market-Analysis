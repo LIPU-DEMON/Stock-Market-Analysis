{
 "cells": [
  {
   "cell_type": "code",
   "execution_count": 2,
   "id": "f629ab72-297a-40bb-966c-bf89e28a6563",
   "metadata": {
    "scrolled": true
   },
   "outputs": [
    {
     "name": "stdout",
     "output_type": "stream",
     "text": [
      "✅ Preprocessing done. SARIMA-ready files saved in Stock_Preprocessed/\n"
     ]
    }
   ],
   "source": [
    "import pandas as pd\n",
    "import os\n",
    "\n",
    "df = pd.read_csv(\"../Data/EDA_transformed.csv\")\n",
    "\n",
    "# Convert 'Date' to datetime\n",
    "df['Date'] = pd.to_datetime(df['Date'])\n",
    "\n",
    "# Remove duplicates\n",
    "df = df.drop_duplicates()\n",
    "\n",
    "# Create output folder\n",
    "os.makedirs(\"Stock_Preprocessed\", exist_ok=True)\n",
    "\n",
    "# Preprocess each stock separately\n",
    "for stock in df['Stocks'].unique():\n",
    "    stock_df = df[df['Stocks'] == stock].copy()\n",
    "    \n",
    "    # Sort by Date\n",
    "    stock_df = stock_df.sort_values('Date')\n",
    "    \n",
    "    # Set Date as index and drop duplicates again\n",
    "    stock_df = stock_df.drop_duplicates(subset='Date')\n",
    "    stock_df.set_index('Date', inplace=True)\n",
    "    \n",
    "    # Reindex with business days\n",
    "    stock_df = stock_df.asfreq('B')\n",
    "    \n",
    "    # Interpolate all numeric columns\n",
    "    numeric_cols = stock_df.select_dtypes(include='number').columns\n",
    "    stock_df[numeric_cols] = stock_df[numeric_cols].interpolate(method='linear')\n",
    "    \n",
    "    # Forward fill any remaining missing values (recommended syntax)\n",
    "    stock_df[numeric_cols] = stock_df[numeric_cols].ffill()\n",
    "    \n",
    "    # Save cleaned stock data\n",
    "    stock_df.to_csv(f\"Stock_Preprocessed/{stock}_cleaned.csv\")\n",
    "\n",
    "print(\"✅ Preprocessing done. SARIMA-ready files saved in Stock_Preprocessed/\")"
   ]
  },
  {
   "cell_type": "code",
   "execution_count": null,
   "id": "795b1654-32b5-4234-849d-0e343306ea65",
   "metadata": {},
   "outputs": [],
   "source": []
  },
  {
   "cell_type": "code",
   "execution_count": null,
   "id": "adce97e8-8f9f-4e5b-961d-449ef5c9587d",
   "metadata": {},
   "outputs": [],
   "source": []
  }
 ],
 "metadata": {
  "kernelspec": {
   "display_name": "Python 3 (ipykernel)",
   "language": "python",
   "name": "python3"
  },
  "language_info": {
   "codemirror_mode": {
    "name": "ipython",
    "version": 3
   },
   "file_extension": ".py",
   "mimetype": "text/x-python",
   "name": "python",
   "nbconvert_exporter": "python",
   "pygments_lexer": "ipython3",
   "version": "3.12.3"
  }
 },
 "nbformat": 4,
 "nbformat_minor": 5
}
